{
 "metadata": {
  "name": "",
  "signature": "sha256:5791808e97d8cfee03f7cc757e682bec697c6a8e0fe29daa8b0cc02021adffb7"
 },
 "nbformat": 3,
 "nbformat_minor": 0,
 "worksheets": [
  {
   "cells": [
    {
     "cell_type": "code",
     "collapsed": false,
     "input": [
      "##If we list all the natural numbers below 10 that are \n",
      "##multiples of 3 or 5, we get 3, 5, 6 and 9. \n",
      "##The sum of these multiples is 23.\n",
      "\n",
      "\n",
      "#Find the sum of all the multiples of 3 or 5 below 1000.\n",
      "\n"
     ],
     "language": "python",
     "metadata": {},
     "outputs": [],
     "prompt_number": 25
    },
    {
     "cell_type": "code",
     "collapsed": false,
     "input": [
      "##All multiples of 3 under thousand\n",
      "\n",
      "mult_3 = []\n",
      "\n",
      "for i in range(0,334):\n",
      "    three = i*3\n",
      "    mult_3.append(three)\n",
      "    \n",
      "mult_3[-1]"
     ],
     "language": "python",
     "metadata": {},
     "outputs": [
      {
       "metadata": {},
       "output_type": "pyout",
       "prompt_number": 26,
       "text": [
        "999"
       ]
      }
     ],
     "prompt_number": 26
    },
    {
     "cell_type": "code",
     "collapsed": false,
     "input": [
      "##All multiples of 5 under thousand\n",
      "\n",
      "mult_5 = []\n",
      "\n",
      "for i in range(0,201):\n",
      "    five = i*5\n",
      "    mult_5.append(five)\n",
      "\n",
      "mult_5[-1]"
     ],
     "language": "python",
     "metadata": {},
     "outputs": [
      {
       "metadata": {},
       "output_type": "pyout",
       "prompt_number": 27,
       "text": [
        "1000"
       ]
      }
     ],
     "prompt_number": 27
    },
    {
     "cell_type": "code",
     "collapsed": false,
     "input": [
      "##total sum\n",
      "\n",
      "##combine both into same list\n",
      "total = mult_3 + mult_5\n",
      "\n",
      "##remove duplicates\n",
      "total = set(total)\n",
      "\n",
      "print sum(total)"
     ],
     "language": "python",
     "metadata": {},
     "outputs": [
      {
       "output_type": "stream",
       "stream": "stdout",
       "text": [
        "234168\n"
       ]
      }
     ],
     "prompt_number": 28
    },
    {
     "cell_type": "code",
     "collapsed": false,
     "input": [],
     "language": "python",
     "metadata": {},
     "outputs": [],
     "prompt_number": 14
    },
    {
     "cell_type": "code",
     "collapsed": false,
     "input": [],
     "language": "python",
     "metadata": {},
     "outputs": []
    }
   ],
   "metadata": {}
  }
 ]
}